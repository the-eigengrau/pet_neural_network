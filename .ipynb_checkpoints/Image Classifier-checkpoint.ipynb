{
 "cells": [
  {
   "cell_type": "code",
   "execution_count": 1,
   "metadata": {},
   "outputs": [
    {
     "name": "stdout",
     "output_type": "stream",
     "text": [
      "2.1.0\n"
     ]
    },
    {
     "name": "stderr",
     "output_type": "stream",
     "text": [
      "Using TensorFlow backend.\n"
     ]
    }
   ],
   "source": [
    "import tensorflow as tf\n",
    "print(tf.__version__)\n",
    "\n",
    "from keras.preprocessing.image import ImageDataGenerator\n",
    "\n",
    "# Importing the Keras libraries and packages\n",
    "from keras.models import Sequential\n",
    "\n",
    "# Required for Step 1 - Convolution\n",
    "from keras.layers import Conv2D\n",
    "\n",
    "# Required for Step 2 - Pooling \n",
    "from keras.layers import MaxPooling2D\n",
    "\n",
    "# Required for Step 3 - Flattening\n",
    "from keras.layers import Flatten\n",
    "\n",
    "# Required for Step 4 - Full connection ANN - You have already used this\n",
    "from keras.layers import Dense\n",
    "\n",
    "seed=47\n",
    "\n"
   ]
  },
  {
   "cell_type": "code",
   "execution_count": 2,
   "metadata": {},
   "outputs": [],
   "source": [
    "import mlflow\n",
    "from azureml.core import Workspace\n",
    "\n",
    "ws = Workspace.from_config(_file_name='config.json')"
   ]
  },
  {
   "cell_type": "code",
   "execution_count": 3,
   "metadata": {},
   "outputs": [],
   "source": [
    "mlflow.set_tracking_uri(ws.get_mlflow_tracking_uri())\n",
    "\n",
    "experiment_name = 'Autonomyous-Vehicle-Stop-Sign-Classifier'\n",
    "mlflow.set_experiment(experiment_name)"
   ]
  },
  {
   "cell_type": "code",
   "execution_count": 4,
   "metadata": {},
   "outputs": [],
   "source": [
    "from mlflow.keras import log_model"
   ]
  },
  {
   "cell_type": "code",
   "execution_count": 5,
   "metadata": {},
   "outputs": [],
   "source": [
    "datagen = ImageDataGenerator(rescale = 1./255,\n",
    "                                   shear_range = 0.2,\n",
    "                                   zoom_range = 0.2,\n",
    "                                   horizontal_flip = True,\n",
    "                                   validation_split=0.2)"
   ]
  },
  {
   "cell_type": "code",
   "execution_count": 6,
   "metadata": {},
   "outputs": [
    {
     "name": "stdout",
     "output_type": "stream",
     "text": [
      "Found 28374 images belonging to 37 classes.\n"
     ]
    }
   ],
   "source": [
    "training_set = datagen.flow_from_directory('./GTSRB_Train/Final_Training/Images',\n",
    "                                                 target_size = (64, 64),\n",
    "                                                 batch_size = 32,\n",
    "                                                 class_mode = 'binary',\n",
    "                                                 subset = 'training',\n",
    "                                                 seed=seed)"
   ]
  },
  {
   "cell_type": "code",
   "execution_count": 7,
   "metadata": {},
   "outputs": [
    {
     "name": "stdout",
     "output_type": "stream",
     "text": [
      "Found 7092 images belonging to 37 classes.\n"
     ]
    }
   ],
   "source": [
    "test_set = datagen.flow_from_directory('./GTSRB_Train/Final_Training/Images',\n",
    "                                            target_size = (64, 64),\n",
    "                                            batch_size = 32,\n",
    "                                            class_mode = 'binary',\n",
    "                                            subset = 'validation',\n",
    "                                            seed=seed)"
   ]
  },
  {
   "cell_type": "code",
   "execution_count": 8,
   "metadata": {},
   "outputs": [],
   "source": [
    "# Initialize the CNN\n",
    "neural = Sequential()\n",
    "\n",
    "#Input Layer\n",
    "neural.add(Dense(255,kernel_initializer='normal',input_dim=X_train.shape[1], activation='relu'))\n",
    "\n",
    "#Hidden Layers\n",
    "neural.add(Dense(256,kernel_initializer='normal', activation='relu'))\n",
    "neural.add(Dropout(.2))\n",
    "neural.add(Dense(256,kernel_initializer='normal', activation='relu'))\n",
    "neural.add(Dropout(.2))\n",
    "neural.add(Dense(256,kernel_initializer='normal', activation='relu'))\n",
    "\n",
    "#Output Layer\n",
    "neural.add(Dense(1, kernel_initializer='normal', activation='linear'))\n"
   ]
  },
  {
   "cell_type": "code",
   "execution_count": 9,
   "metadata": {},
   "outputs": [],
   "source": [
    "## Add Callbacks for EarlyStopping\n",
    "from keras.callbacks import EarlyStopping\n",
    "earlystop = EarlyStopping(patience=3, monitor='loss', min_delta=0.001)\n",
    "\n",
    "## Callbacks can be a list\n",
    "clf_callbacks = [earlystop]"
   ]
  },
  {
   "cell_type": "code",
   "execution_count": 10,
   "metadata": {},
   "outputs": [],
   "source": [
    "from mlflow.keras import log_model\n",
    "\n",
    "# Note issue with **kwargs https://github.com/keras-team/keras/issues/9805\n",
    "def trackExperiments(run_name, compile_kwargs, fit_kwargs, optional_params={}):\n",
    "  \"\"\"\n",
    "  This is a wrapper function for tracking experiments with MLflow\n",
    "    \n",
    "  Parameters\n",
    "  ----------\n",
    "  run_name: str\n",
    "    Mlflow runname\n",
    "    \n",
    "  compile_kwargs: dict\n",
    "    Keyword arguments to compile model with\n",
    "  \n",
    "  fit_kwargs: dict\n",
    "    Keyword arguments to fit model with\n",
    "  \"\"\"\n",
    "  with mlflow.start_run(run_name=run_name) as run:\n",
    "    model = neural\n",
    "    model.compile(**compile_kwargs)\n",
    "    #history = model.fit(**fit_kwargs)\n",
    "    history = model.fit_generator(**fit_kwargs)\n",
    "    \n",
    "    for param_key, param_value in {**compile_kwargs, **fit_kwargs, **optional_params}.items():\n",
    "      if param_key not in [\"x\", \"y\"]:\n",
    "        mlflow.log_param(param_key, param_value)\n",
    "    \n",
    "    for key, values in history.history.items():\n",
    "      for i, v in enumerate(values):\n",
    "        mlflow.log_metric(key, v, step=i)\n",
    "\n",
    "    for i, layer in enumerate(model.layers):\n",
    "      mlflow.log_param(f\"hidden_layer_{i}_units\", layer.output_shape)\n",
    "      \n",
    "    log_model(model, \"stop_classifier\")\n",
    "    ## mlflow.keras.log_model also logs the same thing\n",
    "        \n",
    "    return run"
   ]
  },
  {
   "cell_type": "code",
   "execution_count": 11,
   "metadata": {},
   "outputs": [],
   "source": [
    "# Specify arguments to compile the Keras classifier model - it would look like below\n",
    "# classifier.compile(optimizer = 'adam', loss = 'binary_crossentropy', metrics = ['accuracy'])\n",
    "compile_kwargs = {\n",
    "  \"optimizer\": \"adam\", \n",
    "  \"loss\": \"binary_crossentropy\",\n",
    "  \"metrics\": [\"accuracy\"],\n",
    "}\n",
    "\n",
    "# Specify arguments to fit the Keras classifier model - it would look like below\n",
    "# classifier.fit_generator(training_set, steps_per_epoch = 8000, epochs = 8, \n",
    "# validation_data = test_set, validation_steps = 2000, callbacks=clf_callbacks)\n",
    "fit_kwargs = {\n",
    "  \"generator\": training_set, \n",
    "  \"steps_per_epoch\": 8000,\n",
    "  \"epochs\": 4,\n",
    "  \"validation_data\": test_set,\n",
    "  \"validation_steps\": 2000, \n",
    "  \"callbacks\": clf_callbacks,\n",
    "  \"verbose\": 2\n",
    "}"
   ]
  },
  {
   "cell_type": "code",
   "execution_count": 12,
   "metadata": {},
   "outputs": [
    {
     "name": "stdout",
     "output_type": "stream",
     "text": [
      "07152020_144757\n"
     ]
    }
   ],
   "source": [
    "## Import Python datetime to create a runname that includes the datetime when it was started\n",
    "from datetime import datetime\n",
    "\n",
    "now = datetime.now() # current date and time\n",
    "datetime_str = now.strftime(\"%m%d%Y_%H%M%S\")\n",
    "print(datetime_str)                            "
   ]
  },
  {
   "cell_type": "code",
   "execution_count": 13,
   "metadata": {},
   "outputs": [
    {
     "name": "stdout",
     "output_type": "stream",
     "text": [
      "ML run name:  AV_stop_classifier07152020_144757\n"
     ]
    }
   ],
   "source": [
    "ml_run_name = \"AV_stop_classifier\" + datetime_str\n",
    "print(\"ML run name: \", ml_run_name)"
   ]
  },
  {
   "cell_type": "code",
   "execution_count": 14,
   "metadata": {},
   "outputs": [
    {
     "name": "stdout",
     "output_type": "stream",
     "text": [
      "Epoch 1/4\n",
      " - 630s - loss: -8.1618e+13 - accuracy: 0.0626 - val_loss: -3.0941e+14 - val_accuracy: 0.0626\n",
      "Epoch 2/4\n",
      " - 473s - loss: -1.3761e+15 - accuracy: 0.0626 - val_loss: -3.9580e+15 - val_accuracy: 0.0626\n",
      "Epoch 3/4\n",
      " - 471s - loss: -6.6851e+15 - accuracy: 0.0626 - val_loss: -8.7925e+15 - val_accuracy: 0.0626\n",
      "Epoch 4/4\n",
      " - 472s - loss: -2.0134e+16 - accuracy: 0.0626 - val_loss: -3.3685e+16 - val_accuracy: 0.0627\n"
     ]
    },
    {
     "name": "stderr",
     "output_type": "stream",
     "text": [
      "2020/07/15 15:22:16 WARNING mlflow.models.model: Logging model metadata to the tracking server has failed, possibly due older server version. The model artifacts have been logged successfully under azureml://experiments/Autonomyous-Vehicle-Stop-Sign-Classifier/runs/64e62086-8657-40d5-8617-bf47f49a89bb/artifacts. In addition to exporting model artifacts, MLflow clients 1.7.0 and above attempt to record model metadata to the  tracking store. If logging to a mlflow server via REST, consider  upgrading the server version to MLflow 1.7.0 or above.\n"
     ]
    }
   ],
   "source": [
    "run_name = ml_run_name\n",
    "run = trackExperiments(run_name, compile_kwargs, fit_kwargs)"
   ]
  }
 ],
 "metadata": {
  "kernelspec": {
   "display_name": "Python 3",
   "language": "python",
   "name": "python3"
  },
  "language_info": {
   "codemirror_mode": {
    "name": "ipython",
    "version": 3
   },
   "file_extension": ".py",
   "mimetype": "text/x-python",
   "name": "python",
   "nbconvert_exporter": "python",
   "pygments_lexer": "ipython3",
   "version": "3.6.9"
  }
 },
 "nbformat": 4,
 "nbformat_minor": 4
}
